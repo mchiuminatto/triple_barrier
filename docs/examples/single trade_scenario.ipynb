{
 "cells": [
  {
   "cell_type": "markdown",
   "id": "c5d0460d-203b-4173-a052-99eebf8dcd7d",
   "metadata": {},
   "source": [
    "# Triple Barrier"
   ]
  },
  {
   "cell_type": "markdown",
   "id": "af0f19c7-b38d-4b90-93e6-ba88a05bef50",
   "metadata": {},
   "source": [
    "Test labeling if one trade"
   ]
  },
  {
   "cell_type": "code",
   "execution_count": 39,
   "id": "56725834-347b-4bcb-a726-9b9763be8250",
   "metadata": {},
   "outputs": [],
   "source": [
    "import pandas as pd\n",
    "import sys\n",
    "sys.path.append(\"../../\")"
   ]
  },
  {
   "cell_type": "markdown",
   "id": "624ada2e-c36b-47f7-9e31-9fb0dc012d07",
   "metadata": {},
   "source": [
    "## Constants"
   ]
  },
  {
   "cell_type": "code",
   "execution_count": 40,
   "id": "28fa848d-1272-4aad-85a7-a7c0d38e3de1",
   "metadata": {},
   "outputs": [],
   "source": [
    "PIP_DECIMAL_POSITION: int = 4"
   ]
  },
  {
   "cell_type": "markdown",
   "id": "0d38f0ac-8de2-4ca9-a22b-60e9165221cd",
   "metadata": {},
   "source": [
    "## Data Prerequisites"
   ]
  },
  {
   "cell_type": "markdown",
   "id": "68130bbd-223c-4a3a-8d3f-ffd551e31b40",
   "metadata": {},
   "source": [
    "This section describes how to prepare data before using triple barrier"
   ]
  },
  {
   "cell_type": "code",
   "execution_count": 41,
   "id": "daca74e0-fa03-4c3e-a552-3e2068500ca6",
   "metadata": {},
   "outputs": [
    {
     "data": {
      "text/html": [
       "<div>\n",
       "<style scoped>\n",
       "    .dataframe tbody tr th:only-of-type {\n",
       "        vertical-align: middle;\n",
       "    }\n",
       "\n",
       "    .dataframe tbody tr th {\n",
       "        vertical-align: top;\n",
       "    }\n",
       "\n",
       "    .dataframe thead th {\n",
       "        text-align: right;\n",
       "    }\n",
       "</style>\n",
       "<table border=\"1\" class=\"dataframe\">\n",
       "  <thead>\n",
       "    <tr style=\"text-align: right;\">\n",
       "      <th></th>\n",
       "      <th>Open</th>\n",
       "      <th>High</th>\n",
       "      <th>Low</th>\n",
       "      <th>Close</th>\n",
       "      <th>Volume</th>\n",
       "    </tr>\n",
       "    <tr>\n",
       "      <th>Time (America/Buenos_Aires)</th>\n",
       "      <th></th>\n",
       "      <th></th>\n",
       "      <th></th>\n",
       "      <th></th>\n",
       "      <th></th>\n",
       "    </tr>\n",
       "  </thead>\n",
       "  <tbody>\n",
       "    <tr>\n",
       "      <th>2023-01-02 00:00:00</th>\n",
       "      <td>1.07005</td>\n",
       "      <td>1.07013</td>\n",
       "      <td>1.06985</td>\n",
       "      <td>1.06986</td>\n",
       "      <td>136.06</td>\n",
       "    </tr>\n",
       "    <tr>\n",
       "      <th>2023-01-02 00:05:00</th>\n",
       "      <td>1.06986</td>\n",
       "      <td>1.06991</td>\n",
       "      <td>1.06980</td>\n",
       "      <td>1.06981</td>\n",
       "      <td>66.84</td>\n",
       "    </tr>\n",
       "    <tr>\n",
       "      <th>2023-01-02 00:10:00</th>\n",
       "      <td>1.07009</td>\n",
       "      <td>1.07011</td>\n",
       "      <td>1.06976</td>\n",
       "      <td>1.06986</td>\n",
       "      <td>118.38</td>\n",
       "    </tr>\n",
       "    <tr>\n",
       "      <th>2023-01-02 00:15:00</th>\n",
       "      <td>1.06986</td>\n",
       "      <td>1.07012</td>\n",
       "      <td>1.06985</td>\n",
       "      <td>1.06986</td>\n",
       "      <td>117.64</td>\n",
       "    </tr>\n",
       "    <tr>\n",
       "      <th>2023-01-02 00:20:00</th>\n",
       "      <td>1.06986</td>\n",
       "      <td>1.07014</td>\n",
       "      <td>1.06985</td>\n",
       "      <td>1.07011</td>\n",
       "      <td>141.48</td>\n",
       "    </tr>\n",
       "  </tbody>\n",
       "</table>\n",
       "</div>"
      ],
      "text/plain": [
       "                                Open     High      Low    Close  Volume \n",
       "Time (America/Buenos_Aires)                                             \n",
       "2023-01-02 00:00:00          1.07005  1.07013  1.06985  1.06986   136.06\n",
       "2023-01-02 00:05:00          1.06986  1.06991  1.06980  1.06981    66.84\n",
       "2023-01-02 00:10:00          1.07009  1.07011  1.06976  1.06986   118.38\n",
       "2023-01-02 00:15:00          1.06986  1.07012  1.06985  1.06986   117.64\n",
       "2023-01-02 00:20:00          1.06986  1.07014  1.06985  1.07011   141.48"
      ]
     },
     "execution_count": 41,
     "metadata": {},
     "output_type": "execute_result"
    }
   ],
   "source": [
    "df = pd.read_csv(\"../../tests/data/EURUSD_5 Mins_Ask_2023.01.02_2024.02.02.csv\", parse_dates=True, index_col=[0])\n",
    "df.head(5)"
   ]
  },
  {
   "cell_type": "markdown",
   "id": "4b69bd69-e796-4eb0-82d9-da4516867713",
   "metadata": {},
   "source": [
    "## Example 1"
   ]
  },
  {
   "cell_type": "markdown",
   "id": "a6a581f8-79d6-44fc-86b7-c01cfd9d6e40",
   "metadata": {},
   "source": [
    "**Scenario Description**\n",
    "\n",
    "This scenario describes how to label a trade with the following features:\n",
    "\n",
    "- Instrument: EUR/USD\n",
    "- Time frame: 5m\n",
    "- Side: Long (Buy)\n",
    "- Stop loss: 5 pips below opening price\n",
    "- Take profit: 10 pips above opening price.\n",
    "- Open date/time: \"2023-01-02 20:45:00\"\n",
    "\n",
    "NOTES:\n",
    "\n",
    "- Stop loss and take profit can be passed as distance from opening price, in pips or as price levels. In this case both are defined as distance in pips.\n",
    "- The library provides an enum type: TradeSide to specify the value of the trade direction or side as BUY or SELL.\n",
    "- The EUR/USD pip decimal position is at the fourth digit, which is specified as 4 (PIP_DECIMAL_POSITION)\n",
    "- All the trade related values are set in a structure named Orders, which is passed to the Labeler constructor along with the OHLC price time series.\n",
    "- It was chosen to pass the OHLC time series separately, regardless CLEAN code recommendations,  having in mind that eventually it would be necessary to implement Buy on Bid, close on Ask setup, which would be a problem with an OHLC vector because generally all components are either bid or ask.\n"
   ]
  },
  {
   "cell_type": "code",
   "execution_count": 42,
   "id": "90ef4f7e-1d90-4b88-bb15-9a2290eda7ac",
   "metadata": {},
   "outputs": [],
   "source": [
    "from dateutil import parser\n",
    "from triple_barrier.trade_labeling import (TradeSide,\n",
    "                                           OrderType,\n",
    "                                           Labeler,\n",
    "                                           )\n",
    "from triple_barrier.trade_labeling import Orders\n",
    "\n",
    "box_setup = Orders()\n",
    "\n",
    "box_setup.open_time = \"2023-01-02 20:45:00\"\n",
    "box_setup.open_price = df.loc[box_setup.open_time][\"Open\"]\n",
    "box_setup.take_profit_width = 10\n",
    "box_setup.stop_loss_width = 5\n",
    "box_setup.time_limit = df[box_setup.open_time:].index[10]\n",
    "box_setup.trade_side = TradeSide.BUY\n",
    "box_setup.pip_decimal_position = 4"
   ]
  },
  {
   "cell_type": "markdown",
   "id": "eeff1298-a283-40f5-80ed-24a3c18c0730",
   "metadata": {},
   "source": [
    "It is possible to print the box_setup like so:"
   ]
  },
  {
   "cell_type": "code",
   "execution_count": 43,
   "id": "c6ba6c9a-268e-4f7c-a4f5-73f9822a0946",
   "metadata": {},
   "outputs": [
    {
     "name": "stdout",
     "output_type": "stream",
     "text": [
      "\n",
      "        open time: 2023-01-02 20:45:00\n",
      "        open price: 1.06709\n",
      "        trade side: BUY\n",
      "        stop loss : 5\n",
      "        take profit : 10\n",
      "        time limit : 2023-01-02 21:35:00\n",
      "        pip position : 4\n",
      "        \n"
     ]
    }
   ],
   "source": [
    "print(box_setup)"
   ]
  },
  {
   "cell_type": "code",
   "execution_count": 44,
   "id": "c281a3ce-6f2e-48b1-beb6-88661295ad21",
   "metadata": {},
   "outputs": [],
   "source": [
    "trade_labeler = Labeler(open_price=df.Open,\n",
    "                               high_price=df.High,\n",
    "                               low_price=df.Low,\n",
    "                               close_price=df.Close,\n",
    "                               box_setup=box_setup)\n",
    "orders_hit = trade_labeler.compute()"
   ]
  },
  {
   "cell_type": "markdown",
   "id": "b6e444a4-6412-478b-a0f2-a84f77691ffb",
   "metadata": {},
   "source": [
    "It is possible to assign the orders outcome, which contains when each order was hit and the first order hit (the one that closed the position). It is also get the same values from the Labeler attribute: orders_hit"
   ]
  },
  {
   "cell_type": "code",
   "execution_count": 45,
   "id": "d2adf62e-7608-4e46-8822-18d2917a0d97",
   "metadata": {},
   "outputs": [
    {
     "name": "stdout",
     "output_type": "stream",
     "text": [
      "\n",
      "        Datetime: 2023-01-09 02:25:00\n",
      "        Level: 1.06809\n",
      "        Type: take-profit\n",
      "        \n",
      "\n",
      "        Datetime: 2023-01-02 22:00:00\n",
      "        Level: 1.0665900000000001\n",
      "        Type: stop-loss\n",
      "        \n",
      "\n",
      "        Datetime: 2023-01-02 21:35:00\n",
      "        Level: 1.0671\n",
      "        Type: time-expiration\n",
      "        \n",
      "Closing order hit  \n",
      "        Datetime: 2023-01-02 21:35:00\n",
      "        Level: 1.0671\n",
      "        Type: time-expiration\n",
      "        \n"
     ]
    }
   ],
   "source": [
    "orders_hits = [str(hit) for hit in orders_hit.barriers]\n",
    "for hit in orders_hits:\n",
    "    print(hit)\n",
    "print(\"Closing order hit \", orders_hit.first_hit)"
   ]
  },
  {
   "cell_type": "markdown",
   "id": "5534a96c-cd93-46ae-b440-f5bd2106083c",
   "metadata": {},
   "source": [
    "The same can carried out querying the Labeler structure: orders_hit, like so"
   ]
  },
  {
   "cell_type": "code",
   "execution_count": 46,
   "id": "f29490a6-7848-4f21-ab2b-ba4e3c3372e3",
   "metadata": {},
   "outputs": [
    {
     "name": "stdout",
     "output_type": "stream",
     "text": [
      "\n",
      "        Datetime: 2023-01-09 02:25:00\n",
      "        Level: 1.06809\n",
      "        Type: take-profit\n",
      "        \n",
      "\n",
      "        Datetime: 2023-01-02 22:00:00\n",
      "        Level: 1.0665900000000001\n",
      "        Type: stop-loss\n",
      "        \n",
      "\n",
      "        Datetime: 2023-01-02 21:35:00\n",
      "        Level: 1.0671\n",
      "        Type: time-expiration\n",
      "        \n",
      "Closing order hit  \n",
      "        Datetime: 2023-01-02 21:35:00\n",
      "        Level: 1.0671\n",
      "        Type: time-expiration\n",
      "        \n"
     ]
    }
   ],
   "source": [
    "orders_hits = [str(hit) for hit in trade_labeler.orders_hit.barriers]\n",
    "for hit in orders_hits:\n",
    "    print(hit)\n",
    "print(\"Closing order hit \", orders_hit.first_hit)"
   ]
  },
  {
   "cell_type": "markdown",
   "id": "788f2a85-2cef-447d-8145-be76e4751102",
   "metadata": {},
   "source": [
    "Not that complicated, isn't it?."
   ]
  },
  {
   "cell_type": "code",
   "execution_count": 47,
   "id": "9faaf238-a4d6-4e0c-8446-d8c1bc593ef5",
   "metadata": {},
   "outputs": [],
   "source": [
    "from triple_barrier.plots import PlotTripleBarrier\n",
    "import mplfinance as mpl"
   ]
  },
  {
   "cell_type": "markdown",
   "id": "b58cc680-f0e2-4241-a2ec-e2878d3f12f8",
   "metadata": {},
   "source": [
    "Plotting the raw price first."
   ]
  },
  {
   "cell_type": "code",
   "execution_count": 34,
   "id": "b03807b3-9019-4ef4-b49d-f9993f1d11ae",
   "metadata": {},
   "outputs": [
    {
     "data": {
      "image/png": "[encoded data removed]",
      "text/plain": [
       "<Figure size 1500x400 with 2 Axes>"
      ]
     },
     "metadata": {},
     "output_type": "display_data"
    }
   ],
   "source": [
    "mpl.plot(df.loc[ \"2023-01-02 20:45:00\": \"2023-01-03 01:40:00\"], type=\"candle\", figsize=(15,4), style=\"ibd\")"
   ]
  },
  {
   "cell_type": "markdown",
   "id": "708274c1-57d3-4ca5-8f7b-3b3b4f0b3ce5",
   "metadata": {},
   "source": [
    "In the constructor, same way as trade labeler are passed the OHLC time series, the instrument pip decimal position and how many periods to plot (default is 50)"
   ]
  },
  {
   "cell_type": "code",
   "execution_count": 28,
   "id": "d5a85b9b-7de6-47f8-a0e7-92ba65a84fe5",
   "metadata": {},
   "outputs": [],
   "source": [
    "plot_tb = PlotTripleBarrier(df.Open,\n",
    "                           df.High,\n",
    "                           df.Low,\n",
    "                           df.Close,\n",
    "                           PIP_DECIMAL_POSITION,\n",
    "                           periods_to_plot=60\n",
    "                           )"
   ]
  },
  {
   "cell_type": "markdown",
   "id": "8822629e-0874-4bb1-bf14-d60315386acf",
   "metadata": {},
   "source": [
    "Now plot the full Orders Box in the same dataset plotted above. The inverted triangle indicates when the position was closed, in this case the closing event was because the expiration time was reached."
   ]
  },
  {
   "cell_type": "code",
   "execution_count": 29,
   "id": "d6da16e8-0b72-451f-834f-db56ebe11371",
   "metadata": {},
   "outputs": [
    {
     "name": "stdout",
     "output_type": "stream",
     "text": [
      "Plotting barrier for 60\n"
     ]
    },
    {
     "data": {
      "image/png": "[encoded data removed]",
      "text/plain": [
       "<Figure size 1500x400 with 2 Axes>"
      ]
     },
     "metadata": {},
     "output_type": "display_data"
    }
   ],
   "source": [
    "plot_tb.plot_multi_barrier(trade_labeler)"
   ]
  }
 ],
 "metadata": {
  "kernelspec": {
   "display_name": "Python 3 (ipykernel)",
   "language": "python",
   "name": "python3"
  },
  "language_info": {
   "codemirror_mode": {
    "name": "ipython",
    "version": 3
   },
   "file_extension": ".py",
   "mimetype": "text/x-python",
   "name": "python",
   "nbconvert_exporter": "python",
   "pygments_lexer": "ipython3",
   "version": "3.11.6"
  }
 },
 "nbformat": 4,
 "nbformat_minor": 5
}
