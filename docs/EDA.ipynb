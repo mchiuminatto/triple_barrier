{
 "cells": [
  {
   "cell_type": "markdown",
   "id": "5ab64b2e-9a9d-460e-9c45-a68d516896e7",
   "metadata": {},
   "source": [
    "# EDA"
   ]
  },
  {
   "cell_type": "code",
   "execution_count": 1,
   "id": "b0bd28fd-164e-4bee-b860-6605d71f9e4f",
   "metadata": {
    "execution": {
     "iopub.execute_input": "2024-10-13T18:43:21.288142Z",
     "iopub.status.busy": "2024-10-13T18:43:21.287936Z",
     "iopub.status.idle": "2024-10-13T18:43:21.550970Z",
     "shell.execute_reply": "2024-10-13T18:43:21.550469Z",
     "shell.execute_reply.started": "2024-10-13T18:43:21.288128Z"
    }
   },
   "outputs": [],
   "source": [
    "import pandas as pd"
   ]
  },
  {
   "cell_type": "code",
   "execution_count": null,
   "id": "acb4dd53-dc6e-403d-ac9d-8b53f4aaed90",
   "metadata": {},
   "outputs": [],
   "source": []
  }
 ],
 "metadata": {
  "kernelspec": {
   "display_name": "Python 3 (ipykernel)",
   "language": "python",
   "name": "python3"
  },
  "language_info": {
   "codemirror_mode": {
    "name": "ipython",
    "version": 3
   },
   "file_extension": ".py",
   "mimetype": "text/x-python",
   "name": "python",
   "nbconvert_exporter": "python",
   "pygments_lexer": "ipython3",
   "version": "3.11.6"
  }
 },
 "nbformat": 4,
 "nbformat_minor": 5
}
