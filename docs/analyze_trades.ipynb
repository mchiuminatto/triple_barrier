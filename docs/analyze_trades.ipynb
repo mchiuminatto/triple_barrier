{
 "cells": [
  {
   "cell_type": "markdown",
   "id": "1bf425de-8a72-4190-8cdf-b032df84fa16",
   "metadata": {},
   "source": [
    "# Test Calculated Barriers"
   ]
  },
  {
   "cell_type": "code",
   "execution_count": 1,
   "id": "a634436f-e905-4e67-bcbd-2b8de26cec13",
   "metadata": {},
   "outputs": [],
   "source": [
    "import pandas as pd"
   ]
  },
  {
   "cell_type": "code",
   "execution_count": 9,
   "id": "0bce1bf8-9b7a-4520-b09a-a022408979c5",
   "metadata": {},
   "outputs": [],
   "source": [
    "df = pd.read_parquet(\"../tests/triple_barrier/integration/output/base_case_short.parquet\")"
   ]
  },
  {
   "cell_type": "code",
   "execution_count": 10,
   "id": "4532d268-171f-4af9-923d-801a06662970",
   "metadata": {},
   "outputs": [
    {
     "data": {
      "text/html": [
       "<div>\n",
       "<style scoped>\n",
       "    .dataframe tbody tr th:only-of-type {\n",
       "        vertical-align: middle;\n",
       "    }\n",
       "\n",
       "    .dataframe tbody tr th {\n",
       "        vertical-align: top;\n",
       "    }\n",
       "\n",
       "    .dataframe thead th {\n",
       "        text-align: right;\n",
       "    }\n",
       "</style>\n",
       "<table border=\"1\" class=\"dataframe\">\n",
       "  <thead>\n",
       "    <tr style=\"text-align: right;\">\n",
       "      <th></th>\n",
       "      <th>open</th>\n",
       "      <th>high</th>\n",
       "      <th>low</th>\n",
       "      <th>close</th>\n",
       "      <th>volume</th>\n",
       "      <th>mva-12</th>\n",
       "      <th>mva-24</th>\n",
       "      <th>exit-signal</th>\n",
       "      <th>entry</th>\n",
       "      <th>entry-signal</th>\n",
       "      <th>exit</th>\n",
       "      <th>close-price</th>\n",
       "      <th>close-datetime</th>\n",
       "      <th>close-type</th>\n",
       "      <th>profit</th>\n",
       "    </tr>\n",
       "    <tr>\n",
       "      <th>date-time</th>\n",
       "      <th></th>\n",
       "      <th></th>\n",
       "      <th></th>\n",
       "      <th></th>\n",
       "      <th></th>\n",
       "      <th></th>\n",
       "      <th></th>\n",
       "      <th></th>\n",
       "      <th></th>\n",
       "      <th></th>\n",
       "      <th></th>\n",
       "      <th></th>\n",
       "      <th></th>\n",
       "      <th></th>\n",
       "      <th></th>\n",
       "    </tr>\n",
       "  </thead>\n",
       "  <tbody>\n",
       "    <tr>\n",
       "      <th>2023-01-02 20:20:00</th>\n",
       "      <td>1.06522</td>\n",
       "      <td>1.06633</td>\n",
       "      <td>1.06522</td>\n",
       "      <td>1.06618</td>\n",
       "      <td>1830.92</td>\n",
       "      <td>1.06677</td>\n",
       "      <td>1.06679</td>\n",
       "      <td>NaN</td>\n",
       "      <td>1.0</td>\n",
       "      <td>NaN</td>\n",
       "      <td>NaN</td>\n",
       "      <td>1.06572</td>\n",
       "      <td>2023-01-02 20:20:00</td>\n",
       "      <td>stop-loss</td>\n",
       "      <td>-5.0</td>\n",
       "    </tr>\n",
       "    <tr>\n",
       "      <th>2023-01-02 21:10:00</th>\n",
       "      <td>1.06766</td>\n",
       "      <td>1.06783</td>\n",
       "      <td>1.06740</td>\n",
       "      <td>1.06762</td>\n",
       "      <td>1331.83</td>\n",
       "      <td>1.06703</td>\n",
       "      <td>1.06698</td>\n",
       "      <td>NaN</td>\n",
       "      <td>1.0</td>\n",
       "      <td>NaN</td>\n",
       "      <td>NaN</td>\n",
       "      <td>1.06666</td>\n",
       "      <td>2023-01-02 22:00:00</td>\n",
       "      <td>take-profit</td>\n",
       "      <td>10.0</td>\n",
       "    </tr>\n",
       "    <tr>\n",
       "      <th>2023-01-02 22:20:00</th>\n",
       "      <td>1.06684</td>\n",
       "      <td>1.06691</td>\n",
       "      <td>1.06565</td>\n",
       "      <td>1.06585</td>\n",
       "      <td>3403.31</td>\n",
       "      <td>1.06690</td>\n",
       "      <td>1.06708</td>\n",
       "      <td>NaN</td>\n",
       "      <td>1.0</td>\n",
       "      <td>NaN</td>\n",
       "      <td>NaN</td>\n",
       "      <td>1.06584</td>\n",
       "      <td>2023-01-02 22:20:00</td>\n",
       "      <td>take-profit</td>\n",
       "      <td>10.0</td>\n",
       "    </tr>\n",
       "    <tr>\n",
       "      <th>2023-01-03 02:20:00</th>\n",
       "      <td>1.06653</td>\n",
       "      <td>1.06657</td>\n",
       "      <td>1.06621</td>\n",
       "      <td>1.06624</td>\n",
       "      <td>833.47</td>\n",
       "      <td>1.06721</td>\n",
       "      <td>1.06738</td>\n",
       "      <td>NaN</td>\n",
       "      <td>1.0</td>\n",
       "      <td>NaN</td>\n",
       "      <td>NaN</td>\n",
       "      <td>1.06680</td>\n",
       "      <td>2023-01-03 03:10:00</td>\n",
       "      <td>time-barrier</td>\n",
       "      <td>-2.7</td>\n",
       "    </tr>\n",
       "    <tr>\n",
       "      <th>2023-01-03 12:55:00</th>\n",
       "      <td>1.05618</td>\n",
       "      <td>1.05652</td>\n",
       "      <td>1.05548</td>\n",
       "      <td>1.05557</td>\n",
       "      <td>3779.56</td>\n",
       "      <td>1.05687</td>\n",
       "      <td>1.05713</td>\n",
       "      <td>NaN</td>\n",
       "      <td>1.0</td>\n",
       "      <td>NaN</td>\n",
       "      <td>NaN</td>\n",
       "      <td>1.05518</td>\n",
       "      <td>2023-01-03 13:00:00</td>\n",
       "      <td>take-profit</td>\n",
       "      <td>10.0</td>\n",
       "    </tr>\n",
       "    <tr>\n",
       "      <th>...</th>\n",
       "      <td>...</td>\n",
       "      <td>...</td>\n",
       "      <td>...</td>\n",
       "      <td>...</td>\n",
       "      <td>...</td>\n",
       "      <td>...</td>\n",
       "      <td>...</td>\n",
       "      <td>...</td>\n",
       "      <td>...</td>\n",
       "      <td>...</td>\n",
       "      <td>...</td>\n",
       "      <td>...</td>\n",
       "      <td>...</td>\n",
       "      <td>...</td>\n",
       "      <td>...</td>\n",
       "    </tr>\n",
       "    <tr>\n",
       "      <th>2024-02-01 08:10:00</th>\n",
       "      <td>1.07947</td>\n",
       "      <td>1.07959</td>\n",
       "      <td>1.07930</td>\n",
       "      <td>1.07945</td>\n",
       "      <td>1405.66</td>\n",
       "      <td>1.07962</td>\n",
       "      <td>1.07969</td>\n",
       "      <td>NaN</td>\n",
       "      <td>1.0</td>\n",
       "      <td>NaN</td>\n",
       "      <td>NaN</td>\n",
       "      <td>1.07997</td>\n",
       "      <td>2024-02-01 08:20:00</td>\n",
       "      <td>stop-loss</td>\n",
       "      <td>-5.0</td>\n",
       "    </tr>\n",
       "    <tr>\n",
       "      <th>2024-02-01 17:55:00</th>\n",
       "      <td>1.08691</td>\n",
       "      <td>1.08719</td>\n",
       "      <td>1.08691</td>\n",
       "      <td>1.08719</td>\n",
       "      <td>1230.63</td>\n",
       "      <td>1.08716</td>\n",
       "      <td>1.08722</td>\n",
       "      <td>NaN</td>\n",
       "      <td>1.0</td>\n",
       "      <td>NaN</td>\n",
       "      <td>NaN</td>\n",
       "      <td>1.08720</td>\n",
       "      <td>2024-02-01 18:45:00</td>\n",
       "      <td>time-barrier</td>\n",
       "      <td>-2.9</td>\n",
       "    </tr>\n",
       "    <tr>\n",
       "      <th>2024-02-01 22:35:00</th>\n",
       "      <td>1.08726</td>\n",
       "      <td>1.08745</td>\n",
       "      <td>1.08710</td>\n",
       "      <td>1.08721</td>\n",
       "      <td>463.68</td>\n",
       "      <td>1.08747</td>\n",
       "      <td>1.08757</td>\n",
       "      <td>NaN</td>\n",
       "      <td>1.0</td>\n",
       "      <td>NaN</td>\n",
       "      <td>NaN</td>\n",
       "      <td>1.08739</td>\n",
       "      <td>2024-02-01 23:25:00</td>\n",
       "      <td>time-barrier</td>\n",
       "      <td>-1.3</td>\n",
       "    </tr>\n",
       "    <tr>\n",
       "      <th>2024-02-02 01:25:00</th>\n",
       "      <td>1.08755</td>\n",
       "      <td>1.08756</td>\n",
       "      <td>1.08741</td>\n",
       "      <td>1.08742</td>\n",
       "      <td>187.52</td>\n",
       "      <td>1.08757</td>\n",
       "      <td>1.08758</td>\n",
       "      <td>NaN</td>\n",
       "      <td>1.0</td>\n",
       "      <td>NaN</td>\n",
       "      <td>NaN</td>\n",
       "      <td>1.08756</td>\n",
       "      <td>2024-02-02 02:15:00</td>\n",
       "      <td>time-barrier</td>\n",
       "      <td>-0.1</td>\n",
       "    </tr>\n",
       "    <tr>\n",
       "      <th>2024-02-02 04:10:00</th>\n",
       "      <td>1.08784</td>\n",
       "      <td>1.08841</td>\n",
       "      <td>1.08782</td>\n",
       "      <td>1.08837</td>\n",
       "      <td>1093.00</td>\n",
       "      <td>1.08787</td>\n",
       "      <td>1.08789</td>\n",
       "      <td>NaN</td>\n",
       "      <td>1.0</td>\n",
       "      <td>NaN</td>\n",
       "      <td>NaN</td>\n",
       "      <td>1.08834</td>\n",
       "      <td>2024-02-02 04:10:00</td>\n",
       "      <td>stop-loss</td>\n",
       "      <td>-5.0</td>\n",
       "    </tr>\n",
       "  </tbody>\n",
       "</table>\n",
       "<p>1110 rows × 15 columns</p>\n",
       "</div>"
      ],
      "text/plain": [
       "                        open     high      low    close   volume   mva-12  \\\n",
       "date-time                                                                   \n",
       "2023-01-02 20:20:00  1.06522  1.06633  1.06522  1.06618  1830.92  1.06677   \n",
       "2023-01-02 21:10:00  1.06766  1.06783  1.06740  1.06762  1331.83  1.06703   \n",
       "2023-01-02 22:20:00  1.06684  1.06691  1.06565  1.06585  3403.31  1.06690   \n",
       "2023-01-03 02:20:00  1.06653  1.06657  1.06621  1.06624   833.47  1.06721   \n",
       "2023-01-03 12:55:00  1.05618  1.05652  1.05548  1.05557  3779.56  1.05687   \n",
       "...                      ...      ...      ...      ...      ...      ...   \n",
       "2024-02-01 08:10:00  1.07947  1.07959  1.07930  1.07945  1405.66  1.07962   \n",
       "2024-02-01 17:55:00  1.08691  1.08719  1.08691  1.08719  1230.63  1.08716   \n",
       "2024-02-01 22:35:00  1.08726  1.08745  1.08710  1.08721   463.68  1.08747   \n",
       "2024-02-02 01:25:00  1.08755  1.08756  1.08741  1.08742   187.52  1.08757   \n",
       "2024-02-02 04:10:00  1.08784  1.08841  1.08782  1.08837  1093.00  1.08787   \n",
       "\n",
       "                      mva-24  exit-signal  entry  entry-signal  exit  \\\n",
       "date-time                                                              \n",
       "2023-01-02 20:20:00  1.06679          NaN    1.0           NaN   NaN   \n",
       "2023-01-02 21:10:00  1.06698          NaN    1.0           NaN   NaN   \n",
       "2023-01-02 22:20:00  1.06708          NaN    1.0           NaN   NaN   \n",
       "2023-01-03 02:20:00  1.06738          NaN    1.0           NaN   NaN   \n",
       "2023-01-03 12:55:00  1.05713          NaN    1.0           NaN   NaN   \n",
       "...                      ...          ...    ...           ...   ...   \n",
       "2024-02-01 08:10:00  1.07969          NaN    1.0           NaN   NaN   \n",
       "2024-02-01 17:55:00  1.08722          NaN    1.0           NaN   NaN   \n",
       "2024-02-01 22:35:00  1.08757          NaN    1.0           NaN   NaN   \n",
       "2024-02-02 01:25:00  1.08758          NaN    1.0           NaN   NaN   \n",
       "2024-02-02 04:10:00  1.08789          NaN    1.0           NaN   NaN   \n",
       "\n",
       "                     close-price      close-datetime    close-type  profit  \n",
       "date-time                                                                   \n",
       "2023-01-02 20:20:00      1.06572 2023-01-02 20:20:00     stop-loss    -5.0  \n",
       "2023-01-02 21:10:00      1.06666 2023-01-02 22:00:00   take-profit    10.0  \n",
       "2023-01-02 22:20:00      1.06584 2023-01-02 22:20:00   take-profit    10.0  \n",
       "2023-01-03 02:20:00      1.06680 2023-01-03 03:10:00  time-barrier    -2.7  \n",
       "2023-01-03 12:55:00      1.05518 2023-01-03 13:00:00   take-profit    10.0  \n",
       "...                          ...                 ...           ...     ...  \n",
       "2024-02-01 08:10:00      1.07997 2024-02-01 08:20:00     stop-loss    -5.0  \n",
       "2024-02-01 17:55:00      1.08720 2024-02-01 18:45:00  time-barrier    -2.9  \n",
       "2024-02-01 22:35:00      1.08739 2024-02-01 23:25:00  time-barrier    -1.3  \n",
       "2024-02-02 01:25:00      1.08756 2024-02-02 02:15:00  time-barrier    -0.1  \n",
       "2024-02-02 04:10:00      1.08834 2024-02-02 04:10:00     stop-loss    -5.0  \n",
       "\n",
       "[1110 rows x 15 columns]"
      ]
     },
     "execution_count": 10,
     "metadata": {},
     "output_type": "execute_result"
    }
   ],
   "source": [
    "df"
   ]
  },
  {
   "cell_type": "code",
   "execution_count": 11,
   "id": "72ad4531-1cd0-45dc-a4af-362bfe8104da",
   "metadata": {},
   "outputs": [],
   "source": [
    "df[\"profit\"] = (df[\"close-price\"] - df[\"open\"])*10**4"
   ]
  },
  {
   "cell_type": "code",
   "execution_count": 12,
   "id": "a53e4f45-d6a2-4f5f-8627-3ab3b647089f",
   "metadata": {},
   "outputs": [
    {
     "data": {
      "text/plain": [
       "<Axes: xlabel='date-time'>"
      ]
     },
     "execution_count": 12,
     "metadata": {},
     "output_type": "execute_result"
    },
    {
     "data": {
      "image/png": "[encoded data removed]",
      "text/plain": [
       "<Figure size 640x480 with 1 Axes>"
      ]
     },
     "metadata": {},
     "output_type": "display_data"
    }
   ],
   "source": [
    "df[\"profit\"].cumsum().plot()"
   ]
  },
  {
   "cell_type": "code",
   "execution_count": 13,
   "id": "f9e9097a-7f29-4436-b337-1fdecfee03bf",
   "metadata": {},
   "outputs": [
    {
     "data": {
      "text/plain": [
       "<Axes: >"
      ]
     },
     "execution_count": 13,
     "metadata": {},
     "output_type": "execute_result"
    },
    {
     "data": {
      "image/png": "[encoded data removed]",
      "text/plain": [
       "<Figure size 640x480 with 1 Axes>"
      ]
     },
     "metadata": {},
     "output_type": "display_data"
    }
   ],
   "source": [
    "df[\"profit\"].hist()"
   ]
  },
  {
   "cell_type": "code",
   "execution_count": 7,
   "id": "3701faff-c6e4-40e3-910f-82f300fc1d71",
   "metadata": {},
   "outputs": [
    {
     "name": "stdout",
     "output_type": "stream",
     "text": [
      "Win trades profit 3405.000000000048\n",
      "Lose trades profit -4279.999999999973\n",
      "Total profit -874.9999999999236\n"
     ]
    }
   ],
   "source": [
    "mask = df[\"profit\"] > 0\n",
    "print(\"Win trades profit\", df[mask][\"profit\"].sum())\n",
    "print(\"Lose trades profit\", df[~mask][\"profit\"].sum())\n",
    "print(\"Total profit\", df[\"profit\"].sum())"
   ]
  },
  {
   "cell_type": "code",
   "execution_count": 8,
   "id": "cff652fe-65a7-4acb-84ca-6de161054f84",
   "metadata": {},
   "outputs": [
    {
     "data": {
      "text/plain": [
       "close-type\n",
       "stop-loss      3405.0\n",
       "take-profit   -4280.0\n",
       "Name: profit, dtype: float64"
      ]
     },
     "execution_count": 8,
     "metadata": {},
     "output_type": "execute_result"
    }
   ],
   "source": [
    "df.groupby(\"close-type\")[\"profit\"].sum()"
   ]
  },
  {
   "cell_type": "code",
   "execution_count": null,
   "id": "7ded1efc-1828-4d2d-a02f-54eaaf71568f",
   "metadata": {},
   "outputs": [],
   "source": []
  }
 ],
 "metadata": {
  "kernelspec": {
   "display_name": "Python 3 (ipykernel)",
   "language": "python",
   "name": "python3"
  },
  "language_info": {
   "codemirror_mode": {
    "name": "ipython",
    "version": 3
   },
   "file_extension": ".py",
   "mimetype": "text/x-python",
   "name": "python",
   "nbconvert_exporter": "python",
   "pygments_lexer": "ipython3",
   "version": "3.11.6"
  }
 },
 "nbformat": 4,
 "nbformat_minor": 5
}
