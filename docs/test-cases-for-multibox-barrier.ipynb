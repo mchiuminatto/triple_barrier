{
 "cells": [
  {
   "cell_type": "code",
   "execution_count": 1,
   "id": "7389d3a6-6c57-4e2f-aafc-d06cc61e616e",
   "metadata": {},
   "outputs": [],
   "source": [
    "import sys\n",
    "import pandas as pd\n",
    "import mplfinance as mpl\n",
    "from datetime import datetime\n",
    "\n"
   ]
  },
  {
   "cell_type": "code",
   "execution_count": 2,
   "id": "2031654b-9ad9-4c99-a247-91635eef933a",
   "metadata": {},
   "outputs": [],
   "source": [
    "sys.path.append(\"../\")\n",
    "from triple_barrier.triple_barrier import TradeSide"
   ]
  },
  {
   "cell_type": "code",
   "execution_count": 3,
   "id": "e5107153-b632-461f-b9ea-7268fb2fe1f8",
   "metadata": {},
   "outputs": [],
   "source": [
    "columns = [\"date-time\", \"open\", \"high\", \"low\", \"close\", \"volume\"]\n",
    "df = pd.read_csv(\"../tests/data/EURUSD_5 Mins_Ask_2023.01.02_2024.02.02.csv\", \n",
    "                 names=columns, \n",
    "                 parse_dates=True, \n",
    "                 index_col=\"date-time\",\n",
    "                 header=0)"
   ]
  },
  {
   "cell_type": "code",
   "execution_count": 4,
   "id": "53789a80-6edf-4990-b63a-27b2a525882c",
   "metadata": {},
   "outputs": [
    {
     "data": {
      "text/html": [
       "<div>\n",
       "<style scoped>\n",
       "    .dataframe tbody tr th:only-of-type {\n",
       "        vertical-align: middle;\n",
       "    }\n",
       "\n",
       "    .dataframe tbody tr th {\n",
       "        vertical-align: top;\n",
       "    }\n",
       "\n",
       "    .dataframe thead th {\n",
       "        text-align: right;\n",
       "    }\n",
       "</style>\n",
       "<table border=\"1\" class=\"dataframe\">\n",
       "  <thead>\n",
       "    <tr style=\"text-align: right;\">\n",
       "      <th></th>\n",
       "      <th>open</th>\n",
       "      <th>high</th>\n",
       "      <th>low</th>\n",
       "      <th>close</th>\n",
       "      <th>volume</th>\n",
       "    </tr>\n",
       "    <tr>\n",
       "      <th>date-time</th>\n",
       "      <th></th>\n",
       "      <th></th>\n",
       "      <th></th>\n",
       "      <th></th>\n",
       "      <th></th>\n",
       "    </tr>\n",
       "  </thead>\n",
       "  <tbody>\n",
       "    <tr>\n",
       "      <th>2023-01-02 00:00:00</th>\n",
       "      <td>1.07005</td>\n",
       "      <td>1.07013</td>\n",
       "      <td>1.06985</td>\n",
       "      <td>1.06986</td>\n",
       "      <td>136.06</td>\n",
       "    </tr>\n",
       "    <tr>\n",
       "      <th>2023-01-02 00:05:00</th>\n",
       "      <td>1.06986</td>\n",
       "      <td>1.06991</td>\n",
       "      <td>1.06980</td>\n",
       "      <td>1.06981</td>\n",
       "      <td>66.84</td>\n",
       "    </tr>\n",
       "    <tr>\n",
       "      <th>2023-01-02 00:10:00</th>\n",
       "      <td>1.07009</td>\n",
       "      <td>1.07011</td>\n",
       "      <td>1.06976</td>\n",
       "      <td>1.06986</td>\n",
       "      <td>118.38</td>\n",
       "    </tr>\n",
       "    <tr>\n",
       "      <th>2023-01-02 00:15:00</th>\n",
       "      <td>1.06986</td>\n",
       "      <td>1.07012</td>\n",
       "      <td>1.06985</td>\n",
       "      <td>1.06986</td>\n",
       "      <td>117.64</td>\n",
       "    </tr>\n",
       "    <tr>\n",
       "      <th>2023-01-02 00:20:00</th>\n",
       "      <td>1.06986</td>\n",
       "      <td>1.07014</td>\n",
       "      <td>1.06985</td>\n",
       "      <td>1.07011</td>\n",
       "      <td>141.48</td>\n",
       "    </tr>\n",
       "  </tbody>\n",
       "</table>\n",
       "</div>"
      ],
      "text/plain": [
       "                        open     high      low    close  volume\n",
       "date-time                                                      \n",
       "2023-01-02 00:00:00  1.07005  1.07013  1.06985  1.06986  136.06\n",
       "2023-01-02 00:05:00  1.06986  1.06991  1.06980  1.06981   66.84\n",
       "2023-01-02 00:10:00  1.07009  1.07011  1.06976  1.06986  118.38\n",
       "2023-01-02 00:15:00  1.06986  1.07012  1.06985  1.06986  117.64\n",
       "2023-01-02 00:20:00  1.06986  1.07014  1.06985  1.07011  141.48"
      ]
     },
     "execution_count": 4,
     "metadata": {},
     "output_type": "execute_result"
    }
   ],
   "source": [
    "df.head()"
   ]
  },
  {
   "cell_type": "code",
   "execution_count": 5,
   "id": "f7626574-d0a0-4ca0-8749-76e7d09ed9c1",
   "metadata": {},
   "outputs": [
    {
     "data": {
      "text/html": [
       "<div>\n",
       "<style scoped>\n",
       "    .dataframe tbody tr th:only-of-type {\n",
       "        vertical-align: middle;\n",
       "    }\n",
       "\n",
       "    .dataframe tbody tr th {\n",
       "        vertical-align: top;\n",
       "    }\n",
       "\n",
       "    .dataframe thead th {\n",
       "        text-align: right;\n",
       "    }\n",
       "</style>\n",
       "<table border=\"1\" class=\"dataframe\">\n",
       "  <thead>\n",
       "    <tr style=\"text-align: right;\">\n",
       "      <th></th>\n",
       "      <th>open</th>\n",
       "      <th>high</th>\n",
       "      <th>low</th>\n",
       "      <th>close</th>\n",
       "      <th>volume</th>\n",
       "    </tr>\n",
       "    <tr>\n",
       "      <th>date-time</th>\n",
       "      <th></th>\n",
       "      <th></th>\n",
       "      <th></th>\n",
       "      <th></th>\n",
       "      <th></th>\n",
       "    </tr>\n",
       "  </thead>\n",
       "  <tbody>\n",
       "    <tr>\n",
       "      <th>2023-01-02 02:05:00</th>\n",
       "      <td>1.07044</td>\n",
       "      <td>1.07051</td>\n",
       "      <td>1.06967</td>\n",
       "      <td>1.06993</td>\n",
       "      <td>367.80</td>\n",
       "    </tr>\n",
       "    <tr>\n",
       "      <th>2023-01-02 02:10:00</th>\n",
       "      <td>1.06994</td>\n",
       "      <td>1.07005</td>\n",
       "      <td>1.06904</td>\n",
       "      <td>1.07001</td>\n",
       "      <td>259.76</td>\n",
       "    </tr>\n",
       "    <tr>\n",
       "      <th>2023-01-02 02:15:00</th>\n",
       "      <td>1.07001</td>\n",
       "      <td>1.07011</td>\n",
       "      <td>1.06997</td>\n",
       "      <td>1.07008</td>\n",
       "      <td>174.19</td>\n",
       "    </tr>\n",
       "    <tr>\n",
       "      <th>2023-01-02 02:20:00</th>\n",
       "      <td>1.07007</td>\n",
       "      <td>1.07010</td>\n",
       "      <td>1.06940</td>\n",
       "      <td>1.06940</td>\n",
       "      <td>189.48</td>\n",
       "    </tr>\n",
       "    <tr>\n",
       "      <th>2023-01-02 02:25:00</th>\n",
       "      <td>1.06939</td>\n",
       "      <td>1.06976</td>\n",
       "      <td>1.06939</td>\n",
       "      <td>1.06961</td>\n",
       "      <td>73.61</td>\n",
       "    </tr>\n",
       "  </tbody>\n",
       "</table>\n",
       "</div>"
      ],
      "text/plain": [
       "                        open     high      low    close  volume\n",
       "date-time                                                      \n",
       "2023-01-02 02:05:00  1.07044  1.07051  1.06967  1.06993  367.80\n",
       "2023-01-02 02:10:00  1.06994  1.07005  1.06904  1.07001  259.76\n",
       "2023-01-02 02:15:00  1.07001  1.07011  1.06997  1.07008  174.19\n",
       "2023-01-02 02:20:00  1.07007  1.07010  1.06940  1.06940  189.48\n",
       "2023-01-02 02:25:00  1.06939  1.06976  1.06939  1.06961   73.61"
      ]
     },
     "execution_count": 5,
     "metadata": {},
     "output_type": "execute_result"
    }
   ],
   "source": [
    "df[\"2023-01-02 02:05:00\":].head()"
   ]
  },
  {
   "cell_type": "markdown",
   "id": "722b4776-2496-4438-9f29-99b942a54fa7",
   "metadata": {},
   "source": [
    "## Long case with levels"
   ]
  },
  {
   "cell_type": "code",
   "execution_count": 6,
   "id": "1ecb234b-f94c-4adf-ac18-046b8df25312",
   "metadata": {},
   "outputs": [
    {
     "name": "stdout",
     "output_type": "stream",
     "text": [
      "Open date 2023-01-02 02:05:00\n",
      "Open price 1.07044\n",
      "Take profit 1.09044\n",
      "Stop loss 1.06044\n",
      "Time limit 2023-01-02 03:05:00\n"
     ]
    }
   ],
   "source": [
    "open_date: datetime = pd.to_datetime(\"2023-01-02 02:05:00\")\n",
    "open_price: float = df.loc[open_date][\"open\"]\n",
    "trade_side: TradeSide = TradeSide.BUY\n",
    "take_profit: float = 1.09044\n",
    "stop_loss: float = 1.06044\n",
    "time_limit: datetime = pd.to_datetime(\"2023-01-02 03:05:00\")\n",
    "\n",
    "print(\"Open date\", open_date)\n",
    "print(\"Open price\", open_price)\n",
    "print (\"Take profit\", take_profit)\n",
    "print (\"Stop loss\", stop_loss)\n",
    "print(\"Time limit\", time_limit)"
   ]
  },
  {
   "cell_type": "code",
   "execution_count": null,
   "id": "4374978a-73e9-4a9f-abc1-3f1b8fadf00e",
   "metadata": {},
   "outputs": [],
   "source": []
  },
  {
   "cell_type": "code",
   "execution_count": null,
   "id": "64cc45b2-43ae-4afa-8390-b6d051268513",
   "metadata": {},
   "outputs": [],
   "source": []
  }
 ],
 "metadata": {
  "kernelspec": {
   "display_name": "Python 3 (ipykernel)",
   "language": "python",
   "name": "python3"
  },
  "language_info": {
   "codemirror_mode": {
    "name": "ipython",
    "version": 3
   },
   "file_extension": ".py",
   "mimetype": "text/x-python",
   "name": "python",
   "nbconvert_exporter": "python",
   "pygments_lexer": "ipython3",
   "version": "3.11.6"
  }
 },
 "nbformat": 4,
 "nbformat_minor": 5
}
